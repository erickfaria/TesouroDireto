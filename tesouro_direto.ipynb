{
 "cells": [
  {
   "cell_type": "code",
   "execution_count": 1,
   "metadata": {},
   "outputs": [],
   "source": [
    "import get_data as gd"
   ]
  },
  {
   "cell_type": "markdown",
   "metadata": {},
   "source": [
    "## Download Tesouro Direto Dataset"
   ]
  },
  {
   "cell_type": "code",
   "execution_count": 2,
   "metadata": {},
   "outputs": [
    {
     "name": "stderr",
     "output_type": "stream",
     "text": [
      "Downloading and converting datasets:   0%|          | 0/5 [00:00<?, ?it/s]d:\\erick\\repositories\\TesouroDireto\\get_data.py:47: UserWarning: Could not infer format, so each element will be parsed individually, falling back to `dateutil`. To ensure parsing is consistent and as-expected, please specify a format.\n",
      "  df = pd.read_csv(csv_filepath, delimiter=';', decimal=',', parse_dates=date_columns)\n",
      "d:\\erick\\repositories\\TesouroDireto\\get_data.py:47: UserWarning: Parsing dates in %d/%m/%Y format when dayfirst=False (the default) was specified. Pass `dayfirst=True` or specify a format to silence this warning.\n",
      "  df = pd.read_csv(csv_filepath, delimiter=';', decimal=',', parse_dates=date_columns)\n",
      "d:\\erick\\repositories\\TesouroDireto\\get_data.py:47: UserWarning: Parsing dates in %d/%m/%Y format when dayfirst=False (the default) was specified. Pass `dayfirst=True` or specify a format to silence this warning.\n",
      "  df = pd.read_csv(csv_filepath, delimiter=';', decimal=',', parse_dates=date_columns)\n",
      "d:\\erick\\repositories\\TesouroDireto\\get_data.py:47: UserWarning: Parsing dates in %d/%m/%Y format when dayfirst=False (the default) was specified. Pass `dayfirst=True` or specify a format to silence this warning.\n",
      "  df = pd.read_csv(csv_filepath, delimiter=';', decimal=',', parse_dates=date_columns)\n"
     ]
    }
   ],
   "source": [
    "# Exemplo de uso:\n",
    "td_datasets = gd.TesouroDiretoDatasets()\n",
    "td_datasets.download_all_data('TesouroDireto')"
   ]
  }
 ],
 "metadata": {
  "kernelspec": {
   "display_name": "python-geo",
   "language": "python",
   "name": "python3"
  },
  "language_info": {
   "codemirror_mode": {
    "name": "ipython",
    "version": 3
   },
   "file_extension": ".py",
   "mimetype": "text/x-python",
   "name": "python",
   "nbconvert_exporter": "python",
   "pygments_lexer": "ipython3",
   "version": "3.11.9"
  }
 },
 "nbformat": 4,
 "nbformat_minor": 2
}

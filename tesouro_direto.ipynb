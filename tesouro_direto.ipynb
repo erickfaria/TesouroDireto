{
 "cells": [
  {
   "cell_type": "code",
   "execution_count": 1,
   "metadata": {},
   "outputs": [],
   "source": [
    "import get_data"
   ]
  },
  {
   "cell_type": "markdown",
   "metadata": {},
   "source": [
    "## Read Taxas Tesouro Direto"
   ]
  },
  {
   "cell_type": "code",
   "execution_count": 2,
   "metadata": {},
   "outputs": [],
   "source": [
    "td_datasets = get_data.TesouroDiretoDatasets()"
   ]
  },
  {
   "cell_type": "code",
   "execution_count": 3,
   "metadata": {},
   "outputs": [],
   "source": [
    "taxas = td_datasets.read_taxas()"
   ]
  },
  {
   "cell_type": "code",
   "execution_count": 4,
   "metadata": {},
   "outputs": [],
   "source": [
    "vendas = td_datasets.read_vendas()"
   ]
  },
  {
   "cell_type": "code",
   "execution_count": 7,
   "metadata": {},
   "outputs": [],
   "source": [
    "estoque = td_datasets.read_estoque()"
   ]
  },
  {
   "cell_type": "code",
   "execution_count": null,
   "metadata": {},
   "outputs": [
    {
     "data": {
      "text/html": [
       "<div>\n",
       "<style scoped>\n",
       "    .dataframe tbody tr th:only-of-type {\n",
       "        vertical-align: middle;\n",
       "    }\n",
       "\n",
       "    .dataframe tbody tr th {\n",
       "        vertical-align: top;\n",
       "    }\n",
       "\n",
       "    .dataframe thead th {\n",
       "        text-align: right;\n",
       "    }\n",
       "</style>\n",
       "<table border=\"1\" class=\"dataframe\">\n",
       "  <thead>\n",
       "    <tr style=\"text-align: right;\">\n",
       "      <th></th>\n",
       "      <th></th>\n",
       "      <th></th>\n",
       "      <th>Tipo Titulo;Vencimento do Titulo;Mes Estoque;PU;Quantidade;Valor Estoque</th>\n",
       "    </tr>\n",
       "  </thead>\n",
       "  <tbody>\n",
       "    <tr>\n",
       "      <th>Tesouro IGPM+ com Juros Semestrais;01/04/2008;04/2005;1724</th>\n",
       "      <th>880647;15351</th>\n",
       "      <th>00;26478642</th>\n",
       "      <td>80</td>\n",
       "    </tr>\n",
       "    <tr>\n",
       "      <th>Tesouro IGPM+ com Juros Semestrais;01/12/2005;04/2005;1856</th>\n",
       "      <th>624298;46831</th>\n",
       "      <th>80;86949057</th>\n",
       "      <td>81</td>\n",
       "    </tr>\n",
       "    <tr>\n",
       "      <th>Tesouro IGPM+ com Juros Semestrais;01/07/2005;04/2005;1866</th>\n",
       "      <th>876262;1815</th>\n",
       "      <th>40;3389127</th>\n",
       "      <td>16</td>\n",
       "    </tr>\n",
       "    <tr>\n",
       "      <th>Tesouro IGPM+ com Juros Semestrais;01/03/2011;04/2005;1656</th>\n",
       "      <th>763541;28858</th>\n",
       "      <th>20;47811213</th>\n",
       "      <td>61</td>\n",
       "    </tr>\n",
       "    <tr>\n",
       "      <th>Tesouro Selic;18/06/2008;04/2005;2266</th>\n",
       "      <th>459210;7050</th>\n",
       "      <th>80;15980350</th>\n",
       "      <td>59</td>\n",
       "    </tr>\n",
       "    <tr>\n",
       "      <th>...</th>\n",
       "      <th>...</th>\n",
       "      <th>...</th>\n",
       "      <td>...</td>\n",
       "    </tr>\n",
       "    <tr>\n",
       "      <th>Tesouro Prefixado com Juros Semestrais;01/01/2029;10/2021;1087</th>\n",
       "      <th>595988;700464</th>\n",
       "      <th>13;761821977</th>\n",
       "      <td>52</td>\n",
       "    </tr>\n",
       "    <tr>\n",
       "      <th>Tesouro Prefixado;01/01/2022;10/2021;988</th>\n",
       "      <th>866730;817815</th>\n",
       "      <th>31;808710351</th>\n",
       "      <td>34</td>\n",
       "    </tr>\n",
       "    <tr>\n",
       "      <th>Tesouro Prefixado com Juros Semestrais;01/01/2023;10/2021;1024</th>\n",
       "      <th>605268;114207</th>\n",
       "      <th>16;117017257</th>\n",
       "      <td>77</td>\n",
       "    </tr>\n",
       "    <tr>\n",
       "      <th>Tesouro IPCA+ com Juros Semestrais;15/05/2055;12/2021;4878</th>\n",
       "      <th>410491;286818</th>\n",
       "      <th>20;1399216915</th>\n",
       "      <td>88</td>\n",
       "    </tr>\n",
       "    <tr>\n",
       "      <th>Tesouro Prefixado com Juros Semestrais;01/01/2023;05/2022;1035</th>\n",
       "      <th>711577;107314</th>\n",
       "      <th>05;111146403</th>\n",
       "      <td>95</td>\n",
       "    </tr>\n",
       "  </tbody>\n",
       "</table>\n",
       "<p>7248 rows × 1 columns</p>\n",
       "</div>"
      ],
      "text/plain": [
       "                                                                                Tipo Titulo;Vencimento do Titulo;Mes Estoque;PU;Quantidade;Valor Estoque\n",
       "Tesouro IGPM+ com Juros Semestrais;01/04/2008;0... 880647;15351  00;26478642                                                   80                       \n",
       "Tesouro IGPM+ com Juros Semestrais;01/12/2005;0... 624298;46831  80;86949057                                                   81                       \n",
       "Tesouro IGPM+ com Juros Semestrais;01/07/2005;0... 876262;1815   40;3389127                                                    16                       \n",
       "Tesouro IGPM+ com Juros Semestrais;01/03/2011;0... 763541;28858  20;47811213                                                   61                       \n",
       "Tesouro Selic;18/06/2008;04/2005;2266              459210;7050   80;15980350                                                   59                       \n",
       "...                                                                                                                           ...                       \n",
       "Tesouro Prefixado com Juros Semestrais;01/01/20... 595988;700464 13;761821977                                                  52                       \n",
       "Tesouro Prefixado;01/01/2022;10/2021;988           866730;817815 31;808710351                                                  34                       \n",
       "Tesouro Prefixado com Juros Semestrais;01/01/20... 605268;114207 16;117017257                                                  77                       \n",
       "Tesouro IPCA+ com Juros Semestrais;15/05/2055;1... 410491;286818 20;1399216915                                                 88                       \n",
       "Tesouro Prefixado com Juros Semestrais;01/01/20... 711577;107314 05;111146403                                                  95                       \n",
       "\n",
       "[7248 rows x 1 columns]"
      ]
     },
     "execution_count": 8,
     "metadata": {},
     "output_type": "execute_result"
    }
   ],
   "source": [
    "operacoes = td_datasets.read_operacoes()"
   ]
  }
 ],
 "metadata": {
  "kernelspec": {
   "display_name": "python-geo",
   "language": "python",
   "name": "python3"
  },
  "language_info": {
   "codemirror_mode": {
    "name": "ipython",
    "version": 3
   },
   "file_extension": ".py",
   "mimetype": "text/x-python",
   "name": "python",
   "nbconvert_exporter": "python",
   "pygments_lexer": "ipython3",
   "version": "3.11.5"
  }
 },
 "nbformat": 4,
 "nbformat_minor": 2
}
